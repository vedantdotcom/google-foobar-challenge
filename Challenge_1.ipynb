{
  "nbformat": 4,
  "nbformat_minor": 0,
  "metadata": {
    "colab": {
      "provenance": [],
      "authorship_tag": "ABX9TyN+QOhmodwtRIHlC/JqzbPb",
      "include_colab_link": true
    },
    "kernelspec": {
      "name": "python3",
      "display_name": "Python 3"
    },
    "language_info": {
      "name": "python"
    }
  },
  "cells": [
    {
      "cell_type": "markdown",
      "metadata": {
        "id": "view-in-github",
        "colab_type": "text"
      },
      "source": [
        "<a href=\"https://colab.research.google.com/github/vedantdotcom/google-foobar-challenge/blob/main/Challenge_1.ipynb\" target=\"_parent\"><img src=\"https://colab.research.google.com/assets/colab-badge.svg\" alt=\"Open In Colab\"/></a>"
      ]
    },
    {
      "cell_type": "code",
      "execution_count": null,
      "metadata": {
        "id": "u01oAPPBRDz5"
      },
      "outputs": [],
      "source": [
        "def solution(s):\n",
        "  char={\"a\":\"z\",\n",
        "        \"b\":\"y\",\n",
        "        \"c\":\"x\",\n",
        "        \"d\":\"w\",\n",
        "        \"e\":\"v\",\n",
        "        \"f\":\"u\",\n",
        "        \"g\":\"t\",\n",
        "         \"h\":\"s\",\n",
        "        \"i\":\"r\",\n",
        "        \"j\":\"q\",\n",
        "        \"k\":\"p\",\n",
        "        \"l\":\"o\",\n",
        "        \"m\":\"n\",\n",
        "        \"n\":\"m\",\n",
        "        \"o\":\"l\",\n",
        "        \"p\":\"k\",\n",
        "        \"q\":\"j\",\n",
        "        \"r\":\"i\",\n",
        "        \"s\":\"h\",\n",
        "        \"t\":\"g\",\n",
        "        \"u\":\"f\",\n",
        "        \"v\":\"e\",\n",
        "        \"w\":\"d\",\n",
        "        \"x\":\"c\",\n",
        "        \"y\":\"b\",\n",
        "        \"z\":\"a\"}\n",
        "\n",
        "  s=list(s)\n",
        "\n",
        "  for index,item in enumerate(s):\n",
        "      for key,value in char.items():\n",
        "          if item==key:\n",
        "              s[index]=value\n",
        "\n",
        "  print(\"\".join(s))"
      ]
    }
  ]
}